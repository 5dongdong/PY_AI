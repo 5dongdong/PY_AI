{
  "nbformat": 4,
  "nbformat_minor": 0,
  "metadata": {
    "colab": {
      "provenance": [],
      "include_colab_link": true
    },
    "kernelspec": {
      "name": "python3",
      "display_name": "Python 3"
    },
    "language_info": {
      "name": "python"
    }
  },
  "cells": [
    {
      "cell_type": "markdown",
      "metadata": {
        "id": "view-in-github",
        "colab_type": "text"
      },
      "source": [
        "<a href=\"https://colab.research.google.com/github/5dongdong/PY_AI/blob/master/Results%3A%20Accuracy%200.8627216793340572.ipynb\" target=\"_parent\"><img src=\"https://colab.research.google.com/assets/colab-badge.svg\" alt=\"Open In Colab\"/></a>"
      ]
    },
    {
      "cell_type": "code",
      "execution_count": 41,
      "metadata": {
        "id": "oo90CKEFdBQB"
      },
      "outputs": [],
      "source": [
        "import pandas as pd\n",
        "import numpy as np\n",
        "import matplotlib.pyplot as plt\n",
        "import seaborn as sns\n",
        "from sklearn.preprocessing import LabelEncoder\n",
        "from sklearn.model_selection import train_test_split, KFold\n",
        "from sklearn.preprocessing import MinMaxScaler, StandardScaler, MaxAbsScaler, RobustScaler\n",
        "from xgboost import XGBClassifier\n",
        "from lightgbm import LGBMClassifier\n",
        "from catboost import CatBoostClassifier\n",
        "from sklearn.model_selection import cross_val_score, cross_val_predict\n",
        "from sklearn.metrics import accuracy_score\n",
        "from sklearn.model_selection import GridSearchCV\n",
        "from sklearn.ensemble import VotingClassifier\n"
      ]
    },
    {
      "cell_type": "code",
      "source": [
        "from google.colab import drive\n",
        "drive.mount('/content/drive')"
      ],
      "metadata": {
        "colab": {
          "base_uri": "https://localhost:8080/"
        },
        "id": "cFp3HS2JeEol",
        "outputId": "c0b7e287-1cea-4bae-ddf5-c0fccc17d5d3"
      },
      "execution_count": 2,
      "outputs": [
        {
          "output_type": "stream",
          "name": "stdout",
          "text": [
            "Mounted at /content/drive\n"
          ]
        }
      ]
    },
    {
      "cell_type": "code",
      "source": [
        "df = pd.read_csv('/content/drive/MyDrive/Colab Notebooks/medical_noshow.csv')  "
      ],
      "metadata": {
        "id": "a3reee7TeQr7"
      },
      "execution_count": 78,
      "outputs": []
    },
    {
      "cell_type": "code",
      "source": [
        "no_show = df[\"No-show\"].value_counts()\n",
        "print(no_show)\n",
        "\n",
        "Percent_no_show = no_show[\"Yes\"]/ no_show.sum() * 100\n",
        "print(\"Percent who didn't show up to their appointment:\",Percent_no_show )"
      ],
      "metadata": {
        "colab": {
          "base_uri": "https://localhost:8080/"
        },
        "id": "z3nfITahv0-r",
        "outputId": "7a738a1e-6f72-4528-8047-191228b8f6c2"
      },
      "execution_count": 79,
      "outputs": [
        {
          "output_type": "stream",
          "name": "stdout",
          "text": [
            "No     88208\n",
            "Yes    22319\n",
            "Name: No-show, dtype: int64\n",
            "Percent who didn't show up to their appointment: 20.193255946510806\n"
          ]
        }
      ]
    },
    {
      "cell_type": "code",
      "source": [
        "df['No-show'].replace(\"No\", 0,inplace=True)\n",
        "df['No-show'].replace(\"Yes\", 1,inplace=True)"
      ],
      "metadata": {
        "id": "ahaJaVORv3jQ"
      },
      "execution_count": 80,
      "outputs": []
    },
    {
      "cell_type": "code",
      "source": [
        "df['Handcap'] = pd.Categorical(df['Handcap'])\n",
        "#Convert to Dummy Variables\n",
        "Handicap = pd.get_dummies(df['Handcap'], prefix = 'Handicap')\n",
        "df = pd.concat([df, Handicap], axis=1)"
      ],
      "metadata": {
        "id": "LEb-mBywv34B"
      },
      "execution_count": 81,
      "outputs": []
    },
    {
      "cell_type": "code",
      "source": [
        "df.groupby('SMS_received')['No-show'].mean()"
      ],
      "metadata": {
        "colab": {
          "base_uri": "https://localhost:8080/"
        },
        "id": "o1Fgy7KZv76A",
        "outputId": "888556c0-1b3c-45ed-8859-4fc8f58fcccc"
      },
      "execution_count": 82,
      "outputs": [
        {
          "output_type": "execute_result",
          "data": {
            "text/plain": [
              "SMS_received\n",
              "0    0.167033\n",
              "1    0.275745\n",
              "Name: No-show, dtype: float64"
            ]
          },
          "metadata": {},
          "execution_count": 82
        }
      ]
    },
    {
      "cell_type": "code",
      "source": [
        "df = df[(df.Age >= 0) & (df.Age <= 100)]"
      ],
      "metadata": {
        "id": "X6koSBotv_ZQ"
      },
      "execution_count": 83,
      "outputs": []
    },
    {
      "cell_type": "code",
      "source": [
        "# Converts the two variables to datetime variables\n",
        "df['ScheduledDay'] = pd.to_datetime(df['ScheduledDay'])\n",
        "df['AppointmentDay'] = pd.to_datetime(df['AppointmentDay'])\n",
        "\n",
        "# Create a variable called \"AwaitingTime\" by subtracting the date the patient made the appointment and the date of the appointment.\n",
        "df['AwaitingTime'] = df[\"AppointmentDay\"].sub(df[\"ScheduledDay\"], axis=0)\n",
        "\n",
        "# Convert the result \"AwaitingTime\" to number of days between appointment day and scheduled day. \n",
        "df[\"AwaitingTime\"] = (df[\"AwaitingTime\"] / np.timedelta64(1, 'D')).abs()"
      ],
      "metadata": {
        "id": "TYcBONMJwBX9"
      },
      "execution_count": 84,
      "outputs": []
    },
    {
      "cell_type": "code",
      "source": [
        "df['Num_App_Missed'] = df.groupby('PatientId')['No-show'].apply(lambda x: x.cumsum())"
      ],
      "metadata": {
        "colab": {
          "base_uri": "https://localhost:8080/"
        },
        "id": "lih9RIV9wDbA",
        "outputId": "5e869607-1b46-4ad2-878a-85595c84a3c4"
      },
      "execution_count": 85,
      "outputs": [
        {
          "output_type": "stream",
          "name": "stderr",
          "text": [
            "<ipython-input-85-6f4ef8d77fc6>:1: FutureWarning: Not prepending group keys to the result index of transform-like apply. In the future, the group keys will be included in the index, regardless of whether the applied function returns a like-indexed object.\n",
            "To preserve the previous behavior, use\n",
            "\n",
            "\t>>> .groupby(..., group_keys=False)\n",
            "\n",
            "To adopt the future behavior and silence this warning, use \n",
            "\n",
            "\t>>> .groupby(..., group_keys=True)\n",
            "  df['Num_App_Missed'] = df.groupby('PatientId')['No-show'].apply(lambda x: x.cumsum())\n"
          ]
        }
      ]
    },
    {
      "cell_type": "code",
      "source": [
        "df.drop([\"PatientId\",'AppointmentID',\n",
        "         'ScheduledDay','Handcap','AppointmentDay','Neighbourhood'], axis=1, inplace = True)"
      ],
      "metadata": {
        "id": "HjzKkDoqwE3p"
      },
      "execution_count": 86,
      "outputs": []
    },
    {
      "cell_type": "code",
      "source": [
        "X = df[['Gender', 'Diabetes','Hipertension', 'Scholarship', 'SMS_received',\n",
        "        'Handicap_0','Handicap_1','Handicap_2','Handicap_3','Handicap_4', 'Num_App_Missed', 'Age', 'AwaitingTime']]\n",
        "\n",
        "y = df[\"No-show\"]"
      ],
      "metadata": {
        "id": "btHtSkQ1wKG6"
      },
      "execution_count": 87,
      "outputs": []
    },
    {
      "cell_type": "code",
      "source": [
        "X_train1 = pd.get_dummies(X)"
      ],
      "metadata": {
        "id": "YS0gjl1rwd5L"
      },
      "execution_count": 89,
      "outputs": []
    },
    {
      "cell_type": "code",
      "source": [
        "from sklearn.preprocessing import StandardScaler\n",
        "scaler = StandardScaler().fit(X_train1)\n",
        "rescaledX2 = scaler.transform(X_train1)"
      ],
      "metadata": {
        "id": "AxqlkfBdwK4Z"
      },
      "execution_count": 90,
      "outputs": []
    },
    {
      "cell_type": "code",
      "source": [
        "from sklearn import metrics\n",
        "from sklearn.linear_model import LogisticRegression\n",
        "# from sklearn.cross_validation import train_test_split\n",
        "\n",
        "# Create Training and Test Dataset with 75% Training and 25% Test\n",
        "X_train, X_test, y_train, y_test = train_test_split(rescaledX2, y, test_size=0.25)\n",
        "\n",
        "# Run Logistic Regression\n",
        "logreg = LogisticRegression()\n",
        "logreg.fit(X_train, y_train)\n",
        "y_pred = logreg.predict(X_test)\n",
        "\n",
        "# Analyze results\n",
        "print(\"Results:\")\n",
        "print(\"Accuracy\", metrics.accuracy_score(y_test,y_pred))"
      ],
      "metadata": {
        "colab": {
          "base_uri": "https://localhost:8080/"
        },
        "id": "OsMhARhNwPud",
        "outputId": "a7e3c6cd-a0b6-459d-bc53-2a729ac85210"
      },
      "execution_count": 92,
      "outputs": [
        {
          "output_type": "stream",
          "name": "stdout",
          "text": [
            "Results:\n",
            "Accuracy 0.8627216793340572\n"
          ]
        }
      ]
    }
  ]
}