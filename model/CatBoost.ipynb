{
 "cells": [
  {
   "cell_type": "code",
   "execution_count": 39,
   "id": "cea551c3",
   "metadata": {},
   "outputs": [
    {
     "name": "stdout",
     "output_type": "stream",
     "text": [
      "Requirement already satisfied: catboost in /opt/conda/lib/python3.8/site-packages (1.2)\n",
      "Requirement already satisfied: six in /opt/conda/lib/python3.8/site-packages (from catboost) (1.15.0)\n",
      "Requirement already satisfied: graphviz in /opt/conda/lib/python3.8/site-packages (from catboost) (0.20.1)\n",
      "Requirement already satisfied: plotly in /opt/conda/lib/python3.8/site-packages (from catboost) (5.14.1)\n",
      "Requirement already satisfied: pandas>=0.24 in /opt/conda/lib/python3.8/site-packages (from catboost) (1.2.4)\n",
      "Requirement already satisfied: scipy in /opt/conda/lib/python3.8/site-packages (from catboost) (1.6.2)\n",
      "Requirement already satisfied: numpy>=1.16.0 in /opt/conda/lib/python3.8/site-packages (from catboost) (1.19.5)\n",
      "Requirement already satisfied: matplotlib in /opt/conda/lib/python3.8/site-packages (from catboost) (3.3.4)\n",
      "Requirement already satisfied: python-dateutil>=2.7.3 in /opt/conda/lib/python3.8/site-packages (from pandas>=0.24->catboost) (2.8.1)\n",
      "Requirement already satisfied: pytz>=2017.3 in /opt/conda/lib/python3.8/site-packages (from pandas>=0.24->catboost) (2021.1)\n",
      "Requirement already satisfied: pillow>=6.2.0 in /opt/conda/lib/python3.8/site-packages (from matplotlib->catboost) (8.2.0)\n",
      "Requirement already satisfied: cycler>=0.10 in /opt/conda/lib/python3.8/site-packages (from matplotlib->catboost) (0.10.0)\n",
      "Requirement already satisfied: pyparsing!=2.0.4,!=2.1.2,!=2.1.6,>=2.0.3 in /opt/conda/lib/python3.8/site-packages (from matplotlib->catboost) (2.4.7)\n",
      "Requirement already satisfied: kiwisolver>=1.0.1 in /opt/conda/lib/python3.8/site-packages (from matplotlib->catboost) (1.3.1)\n",
      "Requirement already satisfied: packaging in /opt/conda/lib/python3.8/site-packages (from plotly->catboost) (20.9)\n",
      "Requirement already satisfied: tenacity>=6.2.0 in /opt/conda/lib/python3.8/site-packages (from plotly->catboost) (8.2.2)\n",
      "Note: you may need to restart the kernel to use updated packages.\n"
     ]
    }
   ],
   "source": [
    "pip install catboost"
   ]
  },
  {
   "cell_type": "code",
   "execution_count": 40,
   "id": "04372b7f",
   "metadata": {},
   "outputs": [
    {
     "name": "stdout",
     "output_type": "stream",
     "text": [
      "Requirement already satisfied: optuna in /opt/conda/lib/python3.8/site-packages (3.1.1)\n",
      "Requirement already satisfied: colorlog in /opt/conda/lib/python3.8/site-packages (from optuna) (6.7.0)\n",
      "Requirement already satisfied: cmaes>=0.9.1 in /opt/conda/lib/python3.8/site-packages (from optuna) (0.9.1)\n",
      "Requirement already satisfied: numpy in /opt/conda/lib/python3.8/site-packages (from optuna) (1.19.5)\n",
      "Requirement already satisfied: PyYAML in /opt/conda/lib/python3.8/site-packages (from optuna) (5.4.1)\n",
      "Requirement already satisfied: tqdm in /opt/conda/lib/python3.8/site-packages (from optuna) (4.59.0)\n",
      "Requirement already satisfied: sqlalchemy>=1.3.0 in /opt/conda/lib/python3.8/site-packages (from optuna) (1.4.15)\n",
      "Requirement already satisfied: packaging>=20.0 in /opt/conda/lib/python3.8/site-packages (from optuna) (20.9)\n",
      "Requirement already satisfied: alembic>=1.5.0 in /opt/conda/lib/python3.8/site-packages (from optuna) (1.11.1)\n",
      "Requirement already satisfied: Mako in /opt/conda/lib/python3.8/site-packages (from alembic>=1.5.0->optuna) (1.2.4)\n",
      "Requirement already satisfied: importlib-metadata in /opt/conda/lib/python3.8/site-packages (from alembic>=1.5.0->optuna) (3.10.0)\n",
      "Requirement already satisfied: importlib-resources in /opt/conda/lib/python3.8/site-packages (from alembic>=1.5.0->optuna) (5.12.0)\n",
      "Requirement already satisfied: typing-extensions>=4 in /opt/conda/lib/python3.8/site-packages (from alembic>=1.5.0->optuna) (4.5.0)\n",
      "Requirement already satisfied: pyparsing>=2.0.2 in /opt/conda/lib/python3.8/site-packages (from packaging>=20.0->optuna) (2.4.7)\n",
      "Requirement already satisfied: greenlet!=0.4.17 in /opt/conda/lib/python3.8/site-packages (from sqlalchemy>=1.3.0->optuna) (1.0.0)\n",
      "Requirement already satisfied: zipp>=0.5 in /opt/conda/lib/python3.8/site-packages (from importlib-metadata->alembic>=1.5.0->optuna) (3.4.1)\n",
      "Requirement already satisfied: MarkupSafe>=0.9.2 in /opt/conda/lib/python3.8/site-packages (from Mako->alembic>=1.5.0->optuna) (1.1.1)\n",
      "Note: you may need to restart the kernel to use updated packages.\n"
     ]
    }
   ],
   "source": [
    "pip install optuna"
   ]
  },
  {
   "cell_type": "code",
   "execution_count": 41,
   "id": "3ad50686",
   "metadata": {},
   "outputs": [],
   "source": [
    "import pandas as pd\n",
    "import numpy as np\n",
    "import matplotlib.pyplot as plt\n",
    "import seaborn as sns\n",
    "from sklearn.preprocessing import LabelEncoder\n",
    "from catboost import CatBoostClassifier\n",
    "from sklearn.model_selection import train_test_split, KFold\n",
    "from sklearn.preprocessing import MinMaxScaler, StandardScaler, MaxAbsScaler, RobustScaler\n",
    "from sklearn.preprocessing import QuantileTransformer, PowerTransformer\n",
    "from sklearn.model_selection import cross_val_score, cross_val_predict\n",
    "from sklearn.metrics import accuracy_score\n",
    "from sklearn.model_selection import GridSearchCV\n",
    "import optuna\n",
    "from optuna import Trial, visualization\n",
    "from optuna.samplers import TPESampler\n",
    "\n",
    "import warnings\n",
    "warnings.filterwarnings('ignore')"
   ]
  },
  {
   "cell_type": "code",
   "execution_count": 42,
   "id": "eef82677",
   "metadata": {},
   "outputs": [],
   "source": [
    "df = pd.read_csv('./medical_noshow_processed_data.csv')\n",
    "\n",
    "x = df.loc[:, df.columns != 'No-show']\n",
    "y = df[['No-show']]   \n",
    "\n",
    "x_train, x_test, y_train,y_test = train_test_split(\n",
    "    x, y, train_size=0.8, shuffle=True, random_state=42\n",
    ")\n"
   ]
  },
  {
   "cell_type": "code",
   "execution_count": 43,
   "id": "ef9faf7f",
   "metadata": {},
   "outputs": [],
   "source": [
    "# 변수 설정\n",
    "\n",
    "n_splits = 11    \n",
    "random_state = 42\n",
    "\n",
    "scaler = RobustScaler()\n",
    "\n",
    "\n",
    "kfold = KFold(n_splits=n_splits, shuffle=True, \n",
    "              random_state=random_state)\n",
    "\n",
    "# Scaler\n",
    "scaler.fit(x_train)                 \n",
    "x_train = scaler.transform(x_train)   # train 은 fit, transform 모두 해줘야 함\n",
    "x_test = scaler.transform(x_test) "
   ]
  },
  {
   "cell_type": "markdown",
   "id": "43a5d5bd",
   "metadata": {},
   "source": [
    "## GridSearchCV"
   ]
  },
  {
   "cell_type": "code",
   "execution_count": null,
   "id": "acdc6263",
   "metadata": {},
   "outputs": [],
   "source": [
    "### GridSearchCV\n",
    "\n",
    "'''\n",
    "#parameters_01\n",
    "param = {\n",
    "    'learning_rate': [0.1, 0.5, 1], # controls the learning rate\n",
    "    'depth': [3, 4, 5], # controls the maximum depth of the tree\n",
    "    'l2_leaf_reg': [2, 3, 4], # controls the L2 regularization term on weights\n",
    "    'colsample_bylevel': [0.1, 0.2, 0.3], # specifies the fraction of columns to be randomly sampled for each level\n",
    "    'n_estimators': [100, 200], # specifies the number of trees to be built\n",
    "    'subsample': [0.1, 0.2, 0.3], # specifies the fraction of observations to be randomly sampled for each tree\n",
    "    'border_count': [32, 64, 128],# specifies the number of splits for numerical features\n",
    "    'bootstrap_type': ['Bernoulli', 'MVS']\n",
    "} \n",
    "\n",
    "\n",
    "\n",
    "#parameters_02\n",
    "param = {\n",
    "    'learning_rate': [0.1, 0.01, 0.001],\n",
    "    'depth': [3, 5, 6, 9],\n",
    "    'l2_leaf_reg': [1, 3, 5, 7]\n",
    "} \n",
    "\n",
    "cat = CatBoostClassifier()\n",
    "model = GridSearchCV(cat, param,  cv = kfold, \n",
    "                   refit = True, verbose = 1, n_jobs = -1  )\n",
    "\n",
    "#3. 훈련\n",
    "import time\n",
    "start_time = time.time()\n",
    "model.fit(x_train, y_train)\n",
    "end_time = time.time() - start_time\n",
    "\n",
    "print('최적의 파라미터 : ', model.best_params_ )\n",
    "print('최적의 매개변수 : ', model.best_estimator_)\n",
    "print('best_score : ', model.best_score_)\n",
    "print('model_score : ', model.score(x_test, y_test))\n",
    "print('걸린 시간 : ', end_time, '초')\n",
    "\n",
    "'''\n",
    "\n",
    "\n",
    "#model = CatBoostClassifier( depth = 7, l2_leaf_reg = 7, learning_rate =  0.05, random_state=72) \n",
    "# model_score :  0.9208288092652913"
   ]
  },
  {
   "cell_type": "markdown",
   "id": "3502c0bc",
   "metadata": {},
   "source": [
    "## optuna"
   ]
  },
  {
   "cell_type": "code",
   "execution_count": null,
   "id": "e1c8d838",
   "metadata": {},
   "outputs": [],
   "source": [
    "def objectiveCAT(trial: Trial, x_train, y_train, x_test):\n",
    "    param = {\n",
    "        'iterations': trial.suggest_int('iterations', 500, 4000),\n",
    "        'depth' : trial.suggest_int('depth', 1, 16),\n",
    "        'learning_rate' : trial.suggest_float('learning_rate', 0.005, 1),\n",
    "        'random_strength': trial.suggest_float('random_strength', 1e-9, 10, log=True),\n",
    "        'l2_leaf_reg' : trial.suggest_float('l2_leaf_reg', 0, 10),\n",
    "        'random_state' :trial.suggest_int('random_state', 1, 2000)\n",
    "    }\n",
    "    # 학습 모델 생성\n",
    "    model = CatBoostClassifier(**param)\n",
    "    CAT_model = model.fit(x_train, y_train, verbose=True) # 학습 진행\n",
    "    # 모델 성능 확인\n",
    "    score = accuracy_score(CAT_model.predict(x_test), y_test)\n",
    "    return score\n",
    "\n",
    "\n",
    "# MAE가 최소가 되는 방향으로 학습을 진행\n",
    "# TPESampler : Sampler using TPE (Tree-structured Parzen Estimator) algorithm.\n",
    "study = optuna.create_study(direction='maximize', sampler=TPESampler())\n",
    "\n",
    "# n_trials 지정해주지 않으면, 무한 반복\n",
    "study.optimize(lambda trial : objectiveCAT(trial, x, y, x_test), n_trials = 5)\n",
    "print('Best trial : score {}, /nparams {}'.format(study.best_trial.value, \n",
    "                                                  study.best_trial.params))\n",
    "\n",
    "# 하이퍼파라미터별 중요도를 확인할 수 있는 그래프\n",
    "print(optuna.visualization.plot_param_importances(study))\n",
    "# 하이퍼파라미터 최적화 과정을 확인\n",
    "optuna.visualization.plot_optimization_history(study)\n",
    "plt.show()\n"
   ]
  },
  {
   "cell_type": "markdown",
   "id": "2b6039b5",
   "metadata": {},
   "source": [
    "## 모델 훈련 ( acc  0.9211 )"
   ]
  },
  {
   "cell_type": "code",
   "execution_count": null,
   "id": "13b9f218",
   "metadata": {},
   "outputs": [],
   "source": [
    "#2. 모델\n",
    "\n",
    "# model = CatBoostClassifier( depth = 7, l2_leaf_reg = 7, learning_rate =  0.05, random_state=72) \n",
    "# # 결과 acc :  0.9208288092652913\n",
    "\n",
    "\n",
    "#2. 모델\n",
    "model = CatBoostClassifier( depth = 7, l2_leaf_reg = 7, learning_rate = 0.05, random_state=72,iterations = 1983, random_strength = 0.508584392429003 ) \n",
    "# 결과 acc :  0.9211454940282302\n",
    "\n",
    "\n",
    "# model = CatBoostClassifier(iterations= 1759, depth = 7, l2_leaf_reg = 7,random_strength =  9.992204520122275e-05,\n",
    "#                            learning_rate =  0.8948182120285428, random_state=72 )\n",
    "#                           #  task_type='GPU') \n",
    "\n",
    "# 3. 훈련\n",
    "model.fit(x_train, y_train)\n",
    "\n",
    "#4. 평가, 예측\n",
    "result = model.score(x_test,y_test)\n",
    "\n",
    "score = cross_val_score( model, \n",
    "                        x_train, y_train,\n",
    "                        cv = kfold )  #cv = cross validation_\n",
    "\n",
    "y_predict = cross_val_predict(model,\n",
    "                              x_test, y_test,\n",
    "                              cv = kfold)\n",
    "\n",
    "acc = accuracy_score(y_test, y_predict)\n",
    "\n",
    "print('결과 acc : ', result)\n",
    "print('cv pred acc : ', acc )\n",
    "\n",
    "\n",
    "# 결과 acc :  0.9640449692363373"
   ]
  },
  {
   "cell_type": "markdown",
   "id": "7663ba8c",
   "metadata": {},
   "source": [
    "## 스케일링"
   ]
  },
  {
   "cell_type": "code",
   "execution_count": null,
   "id": "0f521829",
   "metadata": {},
   "outputs": [],
   "source": [
    "# 스케일링\n",
    "sts = StandardScaler() \n",
    "mms = MinMaxScaler()\n",
    "mas = MaxAbsScaler()\n",
    "rbs = RobustScaler()\n",
    "qtf = QuantileTransformer()                     # QuantileTransformer 는 지정된 분위수에 맞게 데이터를 변환함. \n",
    "                                                # 기본 분위수는 1,000개이며, n_quantiles 매개변수에서 변경할 수 있음\n",
    "ptf1 = PowerTransformer(method='yeo-johnson')   # 'yeo-johnson', 양수 및 음수 값으로 작동\n",
    "ptf2 = PowerTransformer(method='box-cox')       # 'box-cox', 양수 값에서만 작동\n",
    "\n",
    "scalers = [sts, mms, mas, rbs, qtf, ptf1, ptf2]\n",
    "for scaler in scalers:\n",
    "    x_train = scaler.fit_transform(x_train)\n",
    "    x_test = scaler.transform(x_test)\n",
    "    model = CatBoostClassifier( depth = 7, l2_leaf_reg = 7, learning_rate =  0.05, random_state=72, verbose = 0)     \n",
    "    \n",
    "#     model = CatBoostClassifier( iterations= 1759, depth = 7, l2_leaf_reg = 7,random_strength =  9.992204520122275e-05,\n",
    "#                             learning_rate =  0.8948182120285428, random_state=72, \n",
    "#                              verbose = 0) \n",
    "                          #  task_type='GPU')\n",
    "    model.fit(x_train, y_train)\n",
    "    y_predict = model.predict(x_test)\n",
    "    result = accuracy_score(y_test, y_predict)\n",
    "    scale_name = scaler.__class__.__name__\n",
    "    print('{0} 결과 : {1:.4f}'.format(scale_name, result), )\n",
    "\n",
    "    \n",
    "# StandardScaler 결과 : 0.9202\n",
    "# MinMaxScaler 결과 : 0.9202\n",
    "# MaxAbsScaler 결과 : 0.9202\n",
    "# RobustScaler 결과 : 0.9208\n",
    "# QuantileTransformer 결과 : 0.9208\n",
    "# PowerTransformer 결과 : 0.9202"
   ]
  },
  {
   "cell_type": "code",
   "execution_count": null,
   "id": "2160ce35",
   "metadata": {},
   "outputs": [],
   "source": []
  }
 ],
 "metadata": {
  "kernelspec": {
   "display_name": "Python 3",
   "language": "python",
   "name": "python3"
  },
  "language_info": {
   "codemirror_mode": {
    "name": "ipython",
    "version": 3
   },
   "file_extension": ".py",
   "mimetype": "text/x-python",
   "name": "python",
   "nbconvert_exporter": "python",
   "pygments_lexer": "ipython3",
   "version": "3.8.8"
  }
 },
 "nbformat": 4,
 "nbformat_minor": 5
}
